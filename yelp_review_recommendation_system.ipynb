{
 "cells": [
  {
   "cell_type": "code",
   "execution_count": 87,
   "metadata": {},
   "outputs": [
    {
     "name": "stderr",
     "output_type": "stream",
     "text": [
      "C:\\Users\\cpiyu\\Anaconda3\\lib\\site-packages\\h5py\\__init__.py:36: FutureWarning: Conversion of the second argument of issubdtype from `float` to `np.floating` is deprecated. In future, it will be treated as `np.float64 == np.dtype(float).type`.\n",
      "  from ._conv import register_converters as _register_converters\n"
     ]
    }
   ],
   "source": [
    "import pandas as pd\n",
    "from collections import defaultdict\n",
    "import numpy as np\n",
    "import tensorflow as tf"
   ]
  },
  {
   "cell_type": "code",
   "execution_count": 79,
   "metadata": {},
   "outputs": [
    {
     "data": {
      "text/html": [
       "<div>\n",
       "<style scoped>\n",
       "    .dataframe tbody tr th:only-of-type {\n",
       "        vertical-align: middle;\n",
       "    }\n",
       "\n",
       "    .dataframe tbody tr th {\n",
       "        vertical-align: top;\n",
       "    }\n",
       "\n",
       "    .dataframe thead th {\n",
       "        text-align: right;\n",
       "    }\n",
       "</style>\n",
       "<table border=\"1\" class=\"dataframe\">\n",
       "  <thead>\n",
       "    <tr style=\"text-align: right;\">\n",
       "      <th></th>\n",
       "      <th>user_id</th>\n",
       "      <th>business_id</th>\n",
       "      <th>stars</th>\n",
       "    </tr>\n",
       "  </thead>\n",
       "  <tbody>\n",
       "    <tr>\n",
       "      <th>0</th>\n",
       "      <td>vxR_YV0atFxIxfOnF9uHjQ</td>\n",
       "      <td>gTw6PENNGl68ZPUpYWP50A</td>\n",
       "      <td>5.0</td>\n",
       "    </tr>\n",
       "    <tr>\n",
       "      <th>1</th>\n",
       "      <td>o0p-iTC5yTBV5Yab_7es4g</td>\n",
       "      <td>iAuOpYDfOTuzQ6OPpEiGwA</td>\n",
       "      <td>4.0</td>\n",
       "    </tr>\n",
       "    <tr>\n",
       "      <th>2</th>\n",
       "      <td>-qj9ouN0bzMXz1vfEslG-A</td>\n",
       "      <td>5j7BnXXvlS69uLVHrY9Upw</td>\n",
       "      <td>2.0</td>\n",
       "    </tr>\n",
       "    <tr>\n",
       "      <th>3</th>\n",
       "      <td>E43QxgV87Ij6KxMCHcijKw</td>\n",
       "      <td>jUYp798M93Mpcjys_TTgsQ</td>\n",
       "      <td>5.0</td>\n",
       "    </tr>\n",
       "    <tr>\n",
       "      <th>4</th>\n",
       "      <td>T13IBpJITI32a1k41rc-tg</td>\n",
       "      <td>3MntE_HWbNNoyiLGxywjYA</td>\n",
       "      <td>5.0</td>\n",
       "    </tr>\n",
       "  </tbody>\n",
       "</table>\n",
       "</div>"
      ],
      "text/plain": [
       "                  user_id             business_id  stars\n",
       "0  vxR_YV0atFxIxfOnF9uHjQ  gTw6PENNGl68ZPUpYWP50A    5.0\n",
       "1  o0p-iTC5yTBV5Yab_7es4g  iAuOpYDfOTuzQ6OPpEiGwA    4.0\n",
       "2  -qj9ouN0bzMXz1vfEslG-A  5j7BnXXvlS69uLVHrY9Upw    2.0\n",
       "3  E43QxgV87Ij6KxMCHcijKw  jUYp798M93Mpcjys_TTgsQ    5.0\n",
       "4  T13IBpJITI32a1k41rc-tg  3MntE_HWbNNoyiLGxywjYA    5.0"
      ]
     },
     "execution_count": 79,
     "metadata": {},
     "output_type": "execute_result"
    }
   ],
   "source": [
    "ratingsDataFrame = pd.read_csv('yelp_train.csv',skipinitialspace=True)\n",
    "ratingsDataFrame.head(5)"
   ]
  },
  {
   "cell_type": "code",
   "execution_count": 62,
   "metadata": {},
   "outputs": [],
   "source": [
    "def idToInteger(allId):\n",
    "    count = 0\n",
    "    groupedId = defaultdict(int)\n",
    "    for _id in allId:\n",
    "        groupedId.setdefault(_id,0)\n",
    "        groupedId[_id] += 1\n",
    "    idToInt = dict()\n",
    "    for _id in groupedId:\n",
    "        count += 1\n",
    "        idToInt[_id] = count\n",
    "    return idToInt"
   ]
  },
  {
   "cell_type": "code",
   "execution_count": 83,
   "metadata": {},
   "outputs": [
    {
     "name": "stdout",
     "output_type": "stream",
     "text": [
      "(455854, 3)\n"
     ]
    },
    {
     "data": {
      "text/plain": [
       "user_id          int64\n",
       "business_id      int64\n",
       "stars          float64\n",
       "dtype: object"
      ]
     },
     "execution_count": 83,
     "metadata": {},
     "output_type": "execute_result"
    }
   ],
   "source": [
    "convertedUserID = idToInteger(ratingsDataFrame['user_id']) \n",
    "ratingsDataFrame['user_id'] = ratingsDataFrame['user_id'].map(convertedUserID)\n",
    "\n",
    "convertedBusinessID = idToInteger(ratingsDataFrame['business_id']) \n",
    "ratingsDataFrame['business_id'] = ratingsDataFrame['business_id'].map(convertedBusinessID)\n",
    "\n",
    "print(ratingsDataFrame.shape)\n",
    "ratingsDataFrame.dtypes"
   ]
  },
  {
   "cell_type": "code",
   "execution_count": 86,
   "metadata": {},
   "outputs": [],
   "source": [
    "userCount, businessCount = len(ratingsDataFrame.user_id.unique()), len(ratingsDataFrame.business_id.unique())\n",
    "latentFactors = 30"
   ]
  },
  {
   "cell_type": "code",
   "execution_count": 94,
   "metadata": {},
   "outputs": [],
   "source": [
    "businessInput = tf.keras.layers.Input(shape=[1],name='Businesses', dtype='int64')\n",
    "businessEmbedding = tf.keras.layers.Embedding(businessCount + 1,latentFactors,name='Business-Encoding')(businessInput)\n",
    "businessVector = tf.keras.layers.Flatten()(businessEmbedding)\n",
    "\n",
    "userInput = tf.keras.layers.Input(shape=[1],name='Users', dtype='int64')\n",
    "userEmbedding = tf.keras.layers.Embedding(userCount + 1,latentFactors,name='User-Encoding')(userInput)\n",
    "userVector = tf.keras.layers.Flatten()(userEmbedding)\n",
    "\n",
    "dotProduct = tf.keras.layers.dot([userVector,businessVector],axes=1)\n",
    "recSysModel = tf.keras.Model(inputs=[userInput,businessInput],outputs=dotProduct)\n",
    "recSysModel.compile(loss='mae', optimizer='adam', metrics=[\"mae\"])"
   ]
  },
  {
   "cell_type": "code",
   "execution_count": 95,
   "metadata": {},
   "outputs": [
    {
     "name": "stdout",
     "output_type": "stream",
     "text": [
      "Model: \"model_1\"\n",
      "__________________________________________________________________________________________________\n",
      "Layer (type)                    Output Shape         Param #     Connected to                     \n",
      "==================================================================================================\n",
      "Users (InputLayer)              [(None, 1)]          0                                            \n",
      "__________________________________________________________________________________________________\n",
      "Businesses (InputLayer)         [(None, 1)]          0                                            \n",
      "__________________________________________________________________________________________________\n",
      "User-Encoding (Embedding)       (None, 1, 30)        338130      Users[0][0]                      \n",
      "__________________________________________________________________________________________________\n",
      "Business-Encoding (Embedding)   (None, 1, 30)        741990      Businesses[0][0]                 \n",
      "__________________________________________________________________________________________________\n",
      "flatten_7 (Flatten)             (None, 30)           0           User-Encoding[0][0]              \n",
      "__________________________________________________________________________________________________\n",
      "flatten_6 (Flatten)             (None, 30)           0           Business-Encoding[0][0]          \n",
      "__________________________________________________________________________________________________\n",
      "dot_1 (Dot)                     (None, 1)            0           flatten_7[0][0]                  \n",
      "                                                                 flatten_6[0][0]                  \n",
      "==================================================================================================\n",
      "Total params: 1,080,120\n",
      "Trainable params: 1,080,120\n",
      "Non-trainable params: 0\n",
      "__________________________________________________________________________________________________\n"
     ]
    }
   ],
   "source": [
    "recSysModel.summary()"
   ]
  },
  {
   "cell_type": "code",
   "execution_count": 96,
   "metadata": {},
   "outputs": [],
   "source": [
    "def convertToArray(entries):\n",
    "    return np.array([[element] for element in entries])"
   ]
  },
  {
   "cell_type": "code",
   "execution_count": 98,
   "metadata": {},
   "outputs": [
    {
     "name": "stdout",
     "output_type": "stream",
     "text": [
      "Epoch 1/10\n",
      "455854/455854 [==============================] - 177s 389us/sample - loss: 2.6127 - mae: 2.6127- loss: 2.6162 \n",
      "Epoch 2/10\n",
      "455854/455854 [==============================] - 177s 389us/sample - loss: 1.0480 - mae: 1.0480\n",
      "Epoch 3/10\n",
      "455854/455854 [==============================] - 184s 403us/sample - loss: 0.8595 - mae: 0.8595\n",
      "Epoch 4/10\n",
      "455854/455854 [==============================] - 185s 406us/sample - loss: 0.7951 - mae: 0.7951\n",
      "Epoch 5/10\n",
      "455854/455854 [==============================] - 190s 416us/sample - loss: 0.7440 - mae: 0.7440\n",
      "Epoch 6/10\n",
      "455854/455854 [==============================] - 191s 420us/sample - loss: 0.6947 - mae: 0.6947\n",
      "Epoch 7/10\n",
      "455854/455854 [==============================] - 184s 403us/sample - loss: 0.6480 - mae: 0.6480\n",
      "Epoch 8/10\n",
      "455854/455854 [==============================] - 176s 386us/sample - loss: 0.6024 - mae: 0.6024\n",
      "Epoch 9/10\n",
      "455854/455854 [==============================] - 175s 384us/sample - loss: 0.5607 - mae: 0.5607\n",
      "Epoch 10/10\n",
      "455854/455854 [==============================] - 175s 384us/sample - loss: 0.5226 - mae: 0.5226\n"
     ]
    }
   ],
   "source": [
    "recSysModelHistory = recSysModel.fit([convertToArray(ratingsDataFrame['user_id']),convertToArray(ratingsDataFrame['business_id'])]\n",
    "                                     ,convertToArray(ratingsDataFrame['stars']),epochs=10, verbose=1)"
   ]
  },
  {
   "cell_type": "code",
   "execution_count": 99,
   "metadata": {},
   "outputs": [],
   "source": [
    "recSysModel.save_weights(\"first_model.h5\")"
   ]
  },
  {
   "cell_type": "code",
   "execution_count": null,
   "metadata": {},
   "outputs": [],
   "source": []
  }
 ],
 "metadata": {
  "kernelspec": {
   "display_name": "Python 3",
   "language": "python",
   "name": "python3"
  },
  "language_info": {
   "codemirror_mode": {
    "name": "ipython",
    "version": 3
   },
   "file_extension": ".py",
   "mimetype": "text/x-python",
   "name": "python",
   "nbconvert_exporter": "python",
   "pygments_lexer": "ipython3",
   "version": "3.6.5"
  }
 },
 "nbformat": 4,
 "nbformat_minor": 2
}
